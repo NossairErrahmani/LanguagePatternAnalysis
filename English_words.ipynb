{
  "nbformat": 4,
  "nbformat_minor": 0,
  "metadata": {
    "colab": {
      "name": "English words.ipynb",
      "provenance": [],
      "collapsed_sections": []
    },
    "kernelspec": {
      "name": "python3",
      "display_name": "Python 3"
    }
  },
  "cells": [
    {
      "cell_type": "code",
      "metadata": {
        "id": "Yd0AC8qs1Gvq",
        "colab_type": "code",
        "colab": {}
      },
      "source": [
        "import pandas as pd\n",
        "import numpy as np\n",
        "import re\n",
        "import string\n",
        "import itertools"
      ],
      "execution_count": 47,
      "outputs": []
    },
    {
      "cell_type": "markdown",
      "metadata": {
        "id": "VPMdANz2H1D_",
        "colab_type": "text"
      },
      "source": [
        "**I. Starts, endings and middles**\n",
        "\n",
        "Finding the most common 3,4,5-grams that start, end or are within words\n",
        "\n",
        "**II. Succession matrix**\n",
        "\n",
        "Which letters are most likely to follow each other\n",
        "\n",
        "III.  "
      ]
    },
    {
      "cell_type": "code",
      "metadata": {
        "id": "4hmfZwvM1l25",
        "colab_type": "code",
        "colab": {}
      },
      "source": [
        "with open('words_alpha.txt') as f:\n",
        "  words=f.read().splitlines()"
      ],
      "execution_count": 2,
      "outputs": []
    },
    {
      "cell_type": "code",
      "metadata": {
        "id": "d53J6VQw3GOI",
        "colab_type": "code",
        "colab": {}
      },
      "source": [
        "alphabet=list(string.ascii_lowercase)\n",
        "language='english'"
      ],
      "execution_count": 62,
      "outputs": []
    },
    {
      "cell_type": "code",
      "metadata": {
        "id": "O5A_rdNu3XMb",
        "colab_type": "code",
        "colab": {}
      },
      "source": [
        "alpha2=[]\n",
        "for i in alphabet:\n",
        "  for j in alphabet:\n",
        "    alpha2.append(i+j)\n",
        "alpha3=[]\n",
        "for i in alpha2:\n",
        "  for j in alphabet:\n",
        "    alpha3.append(i+j)\n",
        "alpha4=[]\n",
        "for i in alpha2:\n",
        "  for j in alpha2:\n",
        "    alpha4.append(i+j)"
      ],
      "execution_count": 4,
      "outputs": []
    },
    {
      "cell_type": "markdown",
      "metadata": {
        "id": "-fhhwGUZMVsj",
        "colab_type": "text"
      },
      "source": [
        "**I. Starting, ending, and middle n-grams**"
      ]
    },
    {
      "cell_type": "code",
      "metadata": {
        "id": "gnzucugM1vAJ",
        "colab_type": "code",
        "colab": {}
      },
      "source": [
        "words3=[x for x in words if len(x)>2]\n",
        "words4=[x for x in words if len(x)>3]\n",
        "words5=[x for x in words if len(x)>4]\n",
        "\n",
        "end=[x[-1] for x in words]\n",
        "end3=[x[-3:] for x in words3]\n",
        "end4=[x[-4:] for x in words4]\n",
        "end5=[x[-5:] for x in words5]\n",
        "\n",
        "dictend1 = dict()\n",
        "for i in end:\n",
        "  dictend1[i] = dictend1.get(i, 0) + 1\n",
        "dictend1={k: v for k, v in sorted(dictend1.items(), key=lambda item: item[1],reverse=True)}\n",
        "dictend3 = dict()\n",
        "for i in end3:\n",
        "  dictend3[i] = dictend3.get(i, 0) + 1\n",
        "dictend3={k: v for k, v in sorted(dictend3.items(), key=lambda item: item[1],reverse=True)}\n",
        "dictend4 = dict()\n",
        "for i in end4:\n",
        "  dictend4[i] = dictend4.get(i, 0) + 1\n",
        "dictend4={k: v for k, v in sorted(dictend4.items(), key=lambda item: item[1],reverse=True)}\n",
        "dictend5 = dict()\n",
        "for i in end5:\n",
        "  dictend5[i] = dictend5.get(i, 0) + 1\n",
        "dictend5={k: v for k, v in sorted(dictend5.items(), key=lambda item: item[1],reverse=True)}"
      ],
      "execution_count": 10,
      "outputs": []
    },
    {
      "cell_type": "code",
      "metadata": {
        "id": "kBO-f27BKOKu",
        "colab_type": "code",
        "colab": {}
      },
      "source": [
        "\n",
        "start=[x[0] for x in words]\n",
        "start3=[x[:3] for x in words3]\n",
        "start4=[x[:4] for x in words4]\n",
        "start5=[x[:5] for x in words5]\n",
        "\n",
        "dictstart1 = dict()\n",
        "for i in start:\n",
        "  dictstart1[i] = dictstart1.get(i, 0) + 1\n",
        "dictstart1={k: v for k, v in sorted(dictstart1.items(), key=lambda item: item[1],reverse=True)}\n",
        "dictstart3 = dict()\n",
        "for i in start3:\n",
        "  dictstart3[i] = dictstart3.get(i, 0) + 1\n",
        "dictstart3={k: v for k, v in sorted(dictstart3.items(), key=lambda item: item[1],reverse=True)}\n",
        "dictstart4 = dict()\n",
        "for i in start4:\n",
        "  dictstart4[i] = dictstart4.get(i, 0) + 1\n",
        "dictstart4={k: v for k, v in sorted(dictstart4.items(), key=lambda item: item[1],reverse=True)}\n",
        "dictstart5 = dict()\n",
        "for i in start5:\n",
        "  dictstart5[i] = dictstart5.get(i, 0) + 1\n",
        "dictstart5={k: v for k, v in sorted(dictstart5.items(), key=lambda item: item[1],reverse=True)}"
      ],
      "execution_count": 14,
      "outputs": []
    },
    {
      "cell_type": "code",
      "metadata": {
        "id": "jtsjVaMOJ9k2",
        "colab_type": "code",
        "colab": {}
      },
      "source": [
        "\n",
        "mid=[x[y] for x in words for y in range(len(x))]\n",
        "mid3=[x[y:y+3] for x in words3 for y in range(len(x)-2)]\n",
        "mid4=[x[y:y+4] for x in words4 for y in range(len(x)-3)]\n",
        "mid5=[x[y:y+5] for x in words5 for y in range(len(x)-4)]\n",
        "\n",
        "dictmid1 = dict()\n",
        "for i in mid:\n",
        "  dictmid1[i] = dictmid1.get(i, 0) + 1\n",
        "dictmid1={k: v for k, v in sorted(dictmid1.items(), key=lambda item: item[1],reverse=True)}\n",
        "dictmid3 = dict()\n",
        "for i in mid3:\n",
        "  dictmid3[i] = dictmid3.get(i, 0) + 1\n",
        "dictmid3={k: v for k, v in sorted(dictmid3.items(), key=lambda item: item[1],reverse=True)}\n",
        "dictmid4 = dict()\n",
        "for i in mid4:\n",
        "  dictmid4[i] = dictmid4.get(i, 0) + 1\n",
        "dictmid4={k: v for k, v in sorted(dictmid4.items(), key=lambda item: item[1],reverse=True)}\n",
        "dictmid5 = dict()\n",
        "for i in mid5:\n",
        "  dictmid5[i] = dictmid5.get(i, 0) + 1\n",
        "dictmid5={k: v for k, v in sorted(dictmid5.items(), key=lambda item: item[1],reverse=True)}"
      ],
      "execution_count": 21,
      "outputs": []
    },
    {
      "cell_type": "markdown",
      "metadata": {
        "id": "n9dF7BUFMq9R",
        "colab_type": "text"
      },
      "source": [
        "**II. Succession Matrix**"
      ]
    },
    {
      "cell_type": "code",
      "metadata": {
        "id": "ATg4ztXVMNiN",
        "colab_type": "code",
        "colab": {}
      },
      "source": [
        "alphabet2=alphabet+[' ']\n",
        "succession={x:{y:0 for y in alphabet2} for x in alphabet2}"
      ],
      "execution_count": 66,
      "outputs": []
    },
    {
      "cell_type": "code",
      "metadata": {
        "id": "cidJSYHdMzxY",
        "colab_type": "code",
        "colab": {}
      },
      "source": [
        "for i in words:\n",
        "  i=i+' '\n",
        "  for j in range(len(i)-1):\n",
        "    succession[i[j]][i[j+1]]+=1\n",
        "pd.DataFrame(succession).to_excel('LetterSuccession'+language+'.xlsx')"
      ],
      "execution_count": 67,
      "outputs": []
    },
    {
      "cell_type": "code",
      "metadata": {
        "id": "-sXG7SXKOWlq",
        "colab_type": "code",
        "colab": {}
      },
      "source": [
        "for i in list(succession.keys()):\n",
        "  sumvalue=sum(list(succession[i].values()))\n",
        "  if sumvalue==0:\n",
        "    sumvalue+=1\n",
        "  for j in list(succession[i].keys()):\n",
        "    succession[i][j]=succession[i][j]/sumvalue\n",
        "pd.DataFrame(succession).to_excel('LetterSuccessionProbability'+language+'.xlsx')"
      ],
      "execution_count": 68,
      "outputs": []
    },
    {
      "cell_type": "code",
      "metadata": {
        "id": "wdquMKnBQX1m",
        "colab_type": "code",
        "colab": {}
      },
      "source": [
        ""
      ],
      "execution_count": 64,
      "outputs": []
    }
  ]
}